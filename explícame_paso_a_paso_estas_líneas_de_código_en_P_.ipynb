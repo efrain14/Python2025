{
  "cells": [
    {
      "cell_type": "markdown",
      "metadata": {
        "id": "view-in-github",
        "colab_type": "text"
      },
      "source": [
        "<a href=\"https://colab.research.google.com/github/efrain14/Python2025/blob/master/expl%C3%ADcame_paso_a_paso_estas_l%C3%ADneas_de_c%C3%B3digo_en_P_.ipynb\" target=\"_parent\"><img src=\"https://colab.research.google.com/assets/colab-badge.svg\" alt=\"Open In Colab\"/></a>"
      ]
    },
    {
      "cell_type": "markdown",
      "source": [
        "¡Hola\\! Con gusto te explico este código línea por línea. El objetivo de este programa es verificar si un nombre de usuario nuevo ya existe en una lista de usuarios actuales, ignorando si están en mayúsculas o minúsculas.\n",
        "\n",
        "### Paso 1: Definición de las listas de usuarios"
      ],
      "metadata": {
        "id": "ZcsZzzt4OR7V"
      }
    },
    {
      "cell_type": "code",
      "source": [
        "current_users = [\"JOHN\", \"jose\", \"pedro\", \"luis\", \"CARLOS\",\"rosa\", \"luisa\"]\n",
        "new_users = [\"miguel\", \"antonio\",\"JOHN\", \"efrain\", \"rosa\"]"
      ],
      "outputs": [],
      "execution_count": null,
      "metadata": {
        "id": "VqcROtkfOR7a"
      }
    },
    {
      "cell_type": "markdown",
      "source": [
        "Aquí se definen dos listas:\n",
        "\n",
        "  * **`current_users`**: Contiene los nombres de usuario que ya están registrados. Como puedes ver, algunos están en mayúsculas (\"JOHN\", \"CARLOS\"), otros en minúsculas (\"jose\", \"rosa\"), y otros con la primera letra en mayúscula (\"Luisa\").\n",
        "  * **`new_users`**: Contiene los nombres de los usuarios nuevos que quieren registrarse.\n",
        "\n",
        "-----\n",
        "\n",
        "### Paso 2: Creación de una lista de usuarios en minúsculas"
      ],
      "metadata": {
        "id": "mEVdnaqAOR7b"
      }
    },
    {
      "cell_type": "code",
      "source": [
        "current_users_lower = [user.lower() for user in current_users]"
      ],
      "outputs": [],
      "execution_count": null,
      "metadata": {
        "id": "C0Vi7GaLOR7b"
      }
    },
    {
      "cell_type": "markdown",
      "source": [
        "Esta línea es una técnica llamada **comprensión de listas** (list comprehension) en Python. Su objetivo es crear una nueva lista llamada `current_users_lower` donde todos los nombres de `current_users` se convierten a minúsculas.\n",
        "\n",
        "  * **`for user in current_users`**: Esto itera sobre cada nombre en la lista `current_users`.\n",
        "  * **`user.lower()`**: Para cada nombre, se aplica el método `.lower()`, que lo convierte a minúsculas.\n",
        "\n",
        "Después de esta línea, la lista `current_users_lower` se verá así: `['john', 'jose', 'pedro', 'luis', 'carlos', 'rosa', 'luisa']`. Esto es crucial para la verificación, ya que permite comparar nombres sin importar su capitalización.\n",
        "\n",
        "-----\n",
        "\n",
        "### Paso 3: Iteración y verificación de nuevos usuarios"
      ],
      "metadata": {
        "id": "TlYc1hCDOR7c"
      }
    },
    {
      "cell_type": "code",
      "source": [
        "for new_user in new_users:\n",
        "    if new_user.lower() in current_users_lower:\n",
        "        print(f\"lo sentimos {new_user} este nombre ya esta siendo usado, devera de elegir otro nombre de usuario\")\n",
        "    else:\n",
        "        print(f\"estupendo, el nombre {new_user} esta disponible\")"
      ],
      "outputs": [],
      "execution_count": null,
      "metadata": {
        "id": "Rld8hsuxOR7c"
      }
    },
    {
      "cell_type": "markdown",
      "source": [
        "Este bloque de código es un bucle `for` que recorre cada nombre en la lista `new_users`. Para cada `new_user`, el programa hace lo siguiente:\n",
        "\n",
        "1.  **`new_user.lower()`**: Convierte el nombre del nuevo usuario a minúsculas.\n",
        "2.  **`if ... in current_users_lower`**: Comprueba si el nombre convertido (en minúsculas) está presente en la lista de usuarios actuales también en minúsculas (`current_users_lower`).\n",
        "      * **Si el nombre está en la lista**: Se ejecuta el código dentro del bloque `if`, imprimiendo un mensaje de que el nombre no está disponible.\n",
        "      * **Si el nombre no está en la lista**: Se ejecuta el código dentro del bloque `else`, imprimiendo un mensaje de que el nombre está disponible.\n",
        "\n",
        "#### ¿Por qué el código se ve así?\n",
        "\n",
        "  * Para el primer `new_user` que es **\"miguel\"**: `miguel.lower()` es 'miguel'. Como 'miguel' no está en `current_users_lower`, el código imprime `estupendo, el nombre miguel esta disponible`.\n",
        "  * Para **\"antonio\"**: Lo mismo, imprime `estupendo, el nombre antonio esta disponible`.\n",
        "  * Para **\"JOHN\"**: `JOHN.lower()` es 'john'. Como 'john' sí está en `current_users_lower`, el código imprime `lo sentimos JOHN este nombre ya esta siendo usado...`. Fíjate que el mensaje usa el nombre original (\"JOHN\") que estaba en la lista `new_users`, no la versión en minúsculas.\n",
        "  * Para **\"efrain\"**: Imprime `estupendo, el nombre efrain esta disponible`.\n",
        "  * Para **\"rosa\"**: `rosa.lower()` es 'rosa'. Como 'rosa' sí está en `current_users_lower`, el código imprime `lo sentimos rosa este nombre ya esta siendo usado...`.\n",
        "\n",
        "En resumen, la clave de este código es la línea de **comprensión de listas** que normaliza los nombres de usuario a minúsculas, lo que permite una verificación de duplicados precisa sin importar la capitalización de las letras."
      ],
      "metadata": {
        "id": "qZ6Dh-FjOR7d"
      }
    }
  ],
  "metadata": {
    "colab": {
      "provenance": [],
      "include_colab_link": true
    },
    "kernelspec": {
      "display_name": "Python 3",
      "name": "python3"
    }
  },
  "nbformat": 4,
  "nbformat_minor": 0
}